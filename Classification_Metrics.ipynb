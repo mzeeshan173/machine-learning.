{
  "nbformat": 4,
  "nbformat_minor": 0,
  "metadata": {
    "colab": {
      "provenance": []
    },
    "kernelspec": {
      "name": "python3",
      "display_name": "Python 3"
    },
    "language_info": {
      "name": "python"
    }
  },
  "cells": [
    {
      "cell_type": "markdown",
      "source": [
        "## Iris Dataset Overview:\n",
        "The Iris dataset is a widely used dataset in machine learning and statistics, which is often used for demonstrating classification algorithms. It's a simple dataset with relatively small size and has been a standard benchmark in the machine learning community for testing various algorithms. The dataset consists of measurements for 150 Iris flowers across 3 different species: Iris setosa, Iris versicolor, and Iris virginica.\n",
        "\n",
        "### Features of the Iris Dataset:\n",
        "* Number of Samples: 150\n",
        "* Number of Features: 4 (Sepal Length, Sepal Width, Petal Length, Petal Width)\n",
        "* Target Classes: 3 species of Iris flowers (Setosa, Versicolor, Virginica)\n",
        "* Class Distribution: Each class contains 50 samples"
      ],
      "metadata": {
        "id": "aYyoji4iRl-Z"
      }
    },
    {
      "cell_type": "markdown",
      "source": [
        "### Import Required Libraries"
      ],
      "metadata": {
        "id": "9AfwkounQ4gp"
      }
    },
    {
      "cell_type": "code",
      "execution_count": null,
      "metadata": {
        "id": "KNKd5lPEQ0Ct"
      },
      "outputs": [],
      "source": [
        "# Import necessary libraries for data manipulation, model training, and evaluation\n",
        "import pandas as pd\n",
        "import numpy as np\n",
        "from sklearn.model_selection import train_test_split\n",
        "from sklearn.ensemble import RandomForestClassifier\n",
        "from sklearn.metrics import accuracy_score, precision_score, recall_score, f1_score, roc_auc_score, confusion_matrix\n",
        "from sklearn.datasets import load_iris"
      ]
    },
    {
      "cell_type": "markdown",
      "source": [
        "### Load and Explore the Dataset"
      ],
      "metadata": {
        "id": "5t4V8rwnRDMp"
      }
    },
    {
      "cell_type": "code",
      "source": [
        "# Load Iris dataset\n",
        "iris = load_iris()\n",
        "X = iris.data\n",
        "y = iris.target\n",
        "\n",
        "# Check the shape and preview the dataset\n",
        "print(\"Features:\", iris.feature_names)\n",
        "print(\"Target:\", iris.target_names)"
      ],
      "metadata": {
        "colab": {
          "base_uri": "https://localhost:8080/"
        },
        "id": "PCCNE0H1Q-wT",
        "outputId": "9e621166-7d97-4206-d59d-a6c390828281"
      },
      "execution_count": null,
      "outputs": [
        {
          "output_type": "stream",
          "name": "stdout",
          "text": [
            "Features: ['sepal length (cm)', 'sepal width (cm)', 'petal length (cm)', 'petal width (cm)']\n",
            "Target: ['setosa' 'versicolor' 'virginica']\n"
          ]
        }
      ]
    },
    {
      "cell_type": "markdown",
      "source": [
        "### Data Preprocessing"
      ],
      "metadata": {
        "id": "jX9uFfg7RHDQ"
      }
    },
    {
      "cell_type": "code",
      "source": [
        "# Split the data into training and testing sets (80% train, 20% test)\n",
        "X_train, X_test, y_train, y_test = train_test_split(X, y, test_size=0.2, random_state=42)"
      ],
      "metadata": {
        "id": "Ai5tJck1RGth"
      },
      "execution_count": null,
      "outputs": []
    },
    {
      "cell_type": "markdown",
      "source": [
        "### Model Training and Evaluation"
      ],
      "metadata": {
        "id": "D8ZzC9LfRPOw"
      }
    },
    {
      "cell_type": "code",
      "source": [
        "# Train the Random Forest model\n",
        "model = RandomForestClassifier(random_state=42)\n",
        "model.fit(X_train, y_train)\n",
        "\n",
        "# Predict the target values for the test set\n",
        "y_pred = model.predict(X_test)\n",
        "\n",
        "# Evaluate the model's performance using various classification metrics\n",
        "accuracy = accuracy_score(y_test, y_pred)  # Overall accuracy of predictions\n",
        "precision = precision_score(y_test, y_pred, average='weighted')  # Precision score\n",
        "recall = recall_score(y_test, y_pred, average='weighted')  # Recall score\n",
        "f1 = f1_score(y_test, y_pred, average='weighted')  # F1 score (harmonic mean of precision and recall)\n",
        "# Calculate the ROC AUC score for multi-class classification (One-vs-Rest strategy)\n",
        "roc_auc = roc_auc_score(y_test, model.predict_proba(X_test), multi_class='ovr')\n",
        "\n",
        "# Display the results\n",
        "print(\"Accuracy:\", accuracy)\n",
        "print(\"Precision:\", precision)\n",
        "print(\"Recall:\", recall)\n",
        "print(\"F1-score:\", f1)\n",
        "print(\"ROC AUC Score:\", roc_auc)"
      ],
      "metadata": {
        "colab": {
          "base_uri": "https://localhost:8080/"
        },
        "id": "rMdp5twDRR8r",
        "outputId": "b9da035e-874c-454f-a81f-7a3520515e3b"
      },
      "execution_count": null,
      "outputs": [
        {
          "output_type": "stream",
          "name": "stdout",
          "text": [
            "Accuracy: 1.0\n",
            "Precision: 1.0\n",
            "Recall: 1.0\n",
            "F1-score: 1.0\n",
            "ROC AUC Score: 1.0\n"
          ]
        }
      ]
    },
    {
      "cell_type": "markdown",
      "source": [
        "### Confusion Matrix"
      ],
      "metadata": {
        "id": "1W3IznEsRe3Q"
      }
    },
    {
      "cell_type": "code",
      "source": [
        "# Confusion Matrix\n",
        "conf_matrix = confusion_matrix(y_test, y_pred)\n",
        "print(\"Confusion Matrix:\\n\", conf_matrix)"
      ],
      "metadata": {
        "colab": {
          "base_uri": "https://localhost:8080/"
        },
        "id": "mTNM5wwVRUD8",
        "outputId": "4419a6da-e94c-4ae8-c7bc-8a96e28cbc4d"
      },
      "execution_count": null,
      "outputs": [
        {
          "output_type": "stream",
          "name": "stdout",
          "text": [
            "Confusion Matrix:\n",
            " [[10  0  0]\n",
            " [ 0  9  0]\n",
            " [ 0  0 11]]\n"
          ]
        }
      ]
    }
  ]
}